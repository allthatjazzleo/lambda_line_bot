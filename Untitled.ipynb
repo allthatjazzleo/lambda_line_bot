{
 "cells": [
  {
   "cell_type": "code",
   "execution_count": null,
   "metadata": {
    "collapsed": true
   },
   "outputs": [],
   "source": [
    "import json\n",
    "import requests\n",
    "\n",
    "\n",
    "def coin_price(crypto_name):\n",
    "  crypto_name_lower = crypto_name.lower()\n",
    "  coin_list = requests.get(\"https://www.cryptocompare.com/api/data/coinlist/\")\n",
    "\n",
    "  coin_lists = []\n",
    "  coin_names = []\n",
    "\n",
    "  for i in coin_list.json()['Data']:\n",
    "    \n",
    "    coin_lists.append(coin_list.json()['Data'][i]['Name'].lower())\n",
    "    coin_names.append(coin_list.json()['Data'][i]['CoinName'].lower())\n",
    "\n",
    "  for i in len(coin_lists):\n",
    "    if crypto_name_lower in coin_lists[i] or crypto_name_lower in coin_names[i]:\n",
    "        r = requests.get(\"https://min-api.cryptocompare.com/data/price?fsym=\"+coin_lists[i].upper()+\"&tsyms=BTC,USD,HKD\")\n",
    "        print(r.json())\n",
    "t = 'LTC'\n",
    "coin_price(t)"
   ]
  },
  {
   "cell_type": "code",
   "execution_count": 16,
   "metadata": {},
   "outputs": [],
   "source": [
    "import json\n",
    "import requests\n",
    "\n",
    "\n",
    "def coin_price(crypto_name):\n",
    "  crypto_name = crypto_name.lower()\n",
    "  coin_list = requests.get(\"https://www.cryptocompare.com/api/data/coinlist/\")\n",
    "\n",
    "  coin_lists = []\n",
    "  coin_names = []\n",
    "  data = coin_list.json()['Data']\n",
    "  for i in data:\n",
    "    \n",
    "    coin_lists.append(data[i]['Name'].lower())\n",
    "    coin_names.append(data[i]['CoinName'].lower())\n",
    "  \n",
    "  for count, item in enumerate(coin_lists):\n",
    "    if crypto_name == item:\n",
    "        r = requests.get(\"https://min-api.cryptocompare.com/data/price?fsym=\"+coin_lists[count].upper()+\"&tsyms=BTC,USD,HKD\")\n",
    "        return r.json()\n",
    "    \n",
    "  for count, item in enumerate(coin_names):\n",
    "    if crypto_name == item:\n",
    "        r = requests.get(\"https://min-api.cryptocompare.com/data/price?fsym=\"+coin_lists[count].upper()+\"&tsyms=BTC,USD,HKD\")\n",
    "        return r.json()\n",
    "    \n",
    "  return false\n",
    "\n"
   ]
  },
  {
   "cell_type": "code",
   "execution_count": 30,
   "metadata": {},
   "outputs": [
    {
     "name": "stdout",
     "output_type": "stream",
     "text": [
      "The price of LTC is BTC 0.0168/ USD 157.27/ HKD 1283.52\n"
     ]
    }
   ],
   "source": [
    "k = 'LTC'\n",
    "y = coin_price(k)\n",
    "if y != False:\n",
    "    print(\"The price of {} is BTC {}/ USD {}/ HKD {}\".format(k,y['BTC'],y['USD'],y['HKD']))\n",
    "#+\"/ USD \"+y['USD']+\"/ HKD \"+y['HKD']"
   ]
  },
  {
   "cell_type": "code",
   "execution_count": 21,
   "metadata": {},
   "outputs": [
    {
     "name": "stdout",
     "output_type": "stream",
     "text": [
      "damn\n"
     ]
    }
   ],
   "source": [
    "fruits = ['orange', 'apple', 'pear', 'banana', 'kiwi', 'apple', 'banana']\n",
    "try:\n",
    "    if fruits.index('asvd') > 0:\n",
    "        print('yeah')\n",
    "except:\n",
    "    print('damn')"
   ]
  },
  {
   "cell_type": "code",
   "execution_count": 22,
   "metadata": {},
   "outputs": [
    {
     "name": "stdout",
     "output_type": "stream",
     "text": [
      "bread\n"
     ]
    }
   ],
   "source": [
    "grocery = ['bread', 'milk', 'butter']\n",
    "\n",
    "for count, item in enumerate(grocery):\n",
    "  if item == 'bread':\n",
    "    print(grocery[count])"
   ]
  },
  {
   "cell_type": "code",
   "execution_count": 33,
   "metadata": {},
   "outputs": [
    {
     "ename": "ModuleNotFoundError",
     "evalue": "No module named 'unicode'",
     "output_type": "error",
     "traceback": [
      "\u001b[0;31m---------------------------------------------------------------------------\u001b[0m",
      "\u001b[0;31mModuleNotFoundError\u001b[0m                       Traceback (most recent call last)",
      "\u001b[0;32m<ipython-input-33-c4ec94f5a687>\u001b[0m in \u001b[0;36m<module>\u001b[0;34m()\u001b[0m\n\u001b[0;32m----> 1\u001b[0;31m \u001b[0;32mimport\u001b[0m \u001b[0municode\u001b[0m\u001b[0;34m\u001b[0m\u001b[0m\n\u001b[0m\u001b[1;32m      2\u001b[0m \u001b[0mb\u001b[0m \u001b[0;34m=\u001b[0m \u001b[0;34m'\\U0001F600'\u001b[0m\u001b[0;34m\u001b[0m\u001b[0m\n\u001b[1;32m      3\u001b[0m \u001b[0mprint\u001b[0m\u001b[0;34m(\u001b[0m\u001b[0municode\u001b[0m\u001b[0;34m(\u001b[0m\u001b[0mb\u001b[0m\u001b[0;34m,\u001b[0m \u001b[0;34m'unicode-escape'\u001b[0m\u001b[0;34m)\u001b[0m\u001b[0;34m)\u001b[0m\u001b[0;34m\u001b[0m\u001b[0m\n",
      "\u001b[0;31mModuleNotFoundError\u001b[0m: No module named 'unicode'"
     ]
    }
   ],
   "source": [
    "import unicode\n",
    "b = '\\U0001F600'\n",
    "print(unicode(b, 'unicode-escape'))"
   ]
  },
  {
   "cell_type": "code",
   "execution_count": 34,
   "metadata": {},
   "outputs": [
    {
     "name": "stdout",
     "output_type": "stream",
     "text": [
      "b'\\\\U0001f604'\n"
     ]
    }
   ],
   "source": [
    "print(u'\\U0001f604'.encode('unicode-escape'))"
   ]
  },
  {
   "cell_type": "code",
   "execution_count": 35,
   "metadata": {
    "collapsed": true
   },
   "outputs": [],
   "source": [
    "c ={'a':123,'b':234}"
   ]
  },
  {
   "cell_type": "code",
   "execution_count": 36,
   "metadata": {},
   "outputs": [
    {
     "ename": "KeyError",
     "evalue": "'k'",
     "output_type": "error",
     "traceback": [
      "\u001b[0;31m---------------------------------------------------------------------------\u001b[0m",
      "\u001b[0;31mKeyError\u001b[0m                                  Traceback (most recent call last)",
      "\u001b[0;32m<ipython-input-36-7c8dc7f59352>\u001b[0m in \u001b[0;36m<module>\u001b[0;34m()\u001b[0m\n\u001b[0;32m----> 1\u001b[0;31m \u001b[0mc\u001b[0m\u001b[0;34m[\u001b[0m\u001b[0;34m'k'\u001b[0m\u001b[0;34m]\u001b[0m\u001b[0;34m\u001b[0m\u001b[0m\n\u001b[0m",
      "\u001b[0;31mKeyError\u001b[0m: 'k'"
     ]
    }
   ],
   "source": [
    "c['k']"
   ]
  },
  {
   "cell_type": "code",
   "execution_count": 37,
   "metadata": {},
   "outputs": [
    {
     "name": "stdout",
     "output_type": "stream",
     "text": [
      "g\n"
     ]
    }
   ],
   "source": [
    "if 'dsfsd':\n",
    "    print('g')"
   ]
  },
  {
   "cell_type": "code",
   "execution_count": null,
   "metadata": {
    "collapsed": true
   },
   "outputs": [],
   "source": []
  }
 ],
 "metadata": {
  "kernelspec": {
   "display_name": "Python 3",
   "language": "python",
   "name": "python3"
  }
 },
 "nbformat": 4,
 "nbformat_minor": 2
}
